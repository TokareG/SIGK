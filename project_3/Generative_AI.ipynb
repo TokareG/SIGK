{
 "cells": [
  {
   "cell_type": "code",
   "id": "initial_id",
   "metadata": {
    "collapsed": true,
    "ExecuteTime": {
     "end_time": "2025-04-23T10:56:09.512992Z",
     "start_time": "2025-04-23T10:54:25.677974Z"
    }
   },
   "source": "!pip install medmnist",
   "outputs": [
    {
     "name": "stdout",
     "output_type": "stream",
     "text": [
      "Collecting medmnist\n",
      "  Obtaining dependency information for medmnist from https://files.pythonhosted.org/packages/b5/ea/53e762bb5c3f443fed86b2020daf2e0bb42fa87fea3ac31b374df86364e2/medmnist-3.0.2-py3-none-any.whl.metadata\n",
      "  Downloading medmnist-3.0.2-py3-none-any.whl.metadata (14 kB)\n",
      "Requirement already satisfied: numpy in c:\\users\\tokar\\pycharmprojects\\sigk\\.venv\\lib\\site-packages (from medmnist) (2.2.4)\n",
      "Collecting pandas (from medmnist)\n",
      "  Obtaining dependency information for pandas from https://files.pythonhosted.org/packages/29/d4/1244ab8edf173a10fd601f7e13b9566c1b525c4f365d6bee918e68381889/pandas-2.2.3-cp312-cp312-win_amd64.whl.metadata\n",
      "  Downloading pandas-2.2.3-cp312-cp312-win_amd64.whl.metadata (19 kB)\n",
      "Collecting scikit-learn (from medmnist)\n",
      "  Obtaining dependency information for scikit-learn from https://files.pythonhosted.org/packages/62/27/585859e72e117fe861c2079bcba35591a84f801e21bc1ab85bce6ce60305/scikit_learn-1.6.1-cp312-cp312-win_amd64.whl.metadata\n",
      "  Downloading scikit_learn-1.6.1-cp312-cp312-win_amd64.whl.metadata (15 kB)\n",
      "Requirement already satisfied: scikit-image in c:\\users\\tokar\\pycharmprojects\\sigk\\.venv\\lib\\site-packages (from medmnist) (0.25.2)\n",
      "Requirement already satisfied: tqdm in c:\\users\\tokar\\pycharmprojects\\sigk\\.venv\\lib\\site-packages (from medmnist) (4.67.1)\n",
      "Requirement already satisfied: Pillow in c:\\users\\tokar\\pycharmprojects\\sigk\\.venv\\lib\\site-packages (from medmnist) (11.1.0)\n",
      "Collecting fire (from medmnist)\n",
      "  Downloading fire-0.7.0.tar.gz (87 kB)\n",
      "     ---------------------------------------- 0.0/87.2 kB ? eta -:--:--\n",
      "     ---------------------------------------- 87.2/87.2 kB 2.5 MB/s eta 0:00:00\n",
      "  Installing build dependencies: started\n",
      "  Installing build dependencies: finished with status 'done'\n",
      "  Getting requirements to build wheel: started\n",
      "  Getting requirements to build wheel: finished with status 'done'\n",
      "  Preparing metadata (pyproject.toml): started\n",
      "  Preparing metadata (pyproject.toml): finished with status 'done'\n",
      "Requirement already satisfied: torch in c:\\users\\tokar\\pycharmprojects\\sigk\\.venv\\lib\\site-packages (from medmnist) (2.6.0)\n",
      "Requirement already satisfied: torchvision in c:\\users\\tokar\\pycharmprojects\\sigk\\.venv\\lib\\site-packages (from medmnist) (0.21.0)\n",
      "Collecting termcolor (from fire->medmnist)\n",
      "  Obtaining dependency information for termcolor from https://files.pythonhosted.org/packages/a6/7e/a574ccd49ad07e8b117407bac361f1e096b01f1b620365daf60ff702c936/termcolor-3.0.1-py3-none-any.whl.metadata\n",
      "  Downloading termcolor-3.0.1-py3-none-any.whl.metadata (6.1 kB)\n",
      "Requirement already satisfied: python-dateutil>=2.8.2 in c:\\users\\tokar\\pycharmprojects\\sigk\\.venv\\lib\\site-packages (from pandas->medmnist) (2.9.0.post0)\n",
      "Collecting pytz>=2020.1 (from pandas->medmnist)\n",
      "  Obtaining dependency information for pytz>=2020.1 from https://files.pythonhosted.org/packages/81/c4/34e93fe5f5429d7570ec1fa436f1986fb1f00c3e0f43a589fe2bbcd22c3f/pytz-2025.2-py2.py3-none-any.whl.metadata\n",
      "  Downloading pytz-2025.2-py2.py3-none-any.whl.metadata (22 kB)\n",
      "Collecting tzdata>=2022.7 (from pandas->medmnist)\n",
      "  Obtaining dependency information for tzdata>=2022.7 from https://files.pythonhosted.org/packages/5c/23/c7abc0ca0a1526a0774eca151daeb8de62ec457e77262b66b359c3c7679e/tzdata-2025.2-py2.py3-none-any.whl.metadata\n",
      "  Downloading tzdata-2025.2-py2.py3-none-any.whl.metadata (1.4 kB)\n",
      "Requirement already satisfied: scipy>=1.11.4 in c:\\users\\tokar\\pycharmprojects\\sigk\\.venv\\lib\\site-packages (from scikit-image->medmnist) (1.15.2)\n",
      "Requirement already satisfied: networkx>=3.0 in c:\\users\\tokar\\pycharmprojects\\sigk\\.venv\\lib\\site-packages (from scikit-image->medmnist) (3.4.2)\n",
      "Requirement already satisfied: imageio!=2.35.0,>=2.33 in c:\\users\\tokar\\pycharmprojects\\sigk\\.venv\\lib\\site-packages (from scikit-image->medmnist) (2.37.0)\n",
      "Requirement already satisfied: tifffile>=2022.8.12 in c:\\users\\tokar\\pycharmprojects\\sigk\\.venv\\lib\\site-packages (from scikit-image->medmnist) (2025.3.30)\n",
      "Requirement already satisfied: packaging>=21 in c:\\users\\tokar\\pycharmprojects\\sigk\\.venv\\lib\\site-packages (from scikit-image->medmnist) (24.2)\n",
      "Requirement already satisfied: lazy-loader>=0.4 in c:\\users\\tokar\\pycharmprojects\\sigk\\.venv\\lib\\site-packages (from scikit-image->medmnist) (0.4)\n",
      "Collecting joblib>=1.2.0 (from scikit-learn->medmnist)\n",
      "  Obtaining dependency information for joblib>=1.2.0 from https://files.pythonhosted.org/packages/91/29/df4b9b42f2be0b623cbd5e2140cafcaa2bef0759a00b7b70104dcfe2fb51/joblib-1.4.2-py3-none-any.whl.metadata\n",
      "  Downloading joblib-1.4.2-py3-none-any.whl.metadata (5.4 kB)\n",
      "Collecting threadpoolctl>=3.1.0 (from scikit-learn->medmnist)\n",
      "  Obtaining dependency information for threadpoolctl>=3.1.0 from https://files.pythonhosted.org/packages/32/d5/f9a850d79b0851d1d4ef6456097579a9005b31fea68726a4ae5f2d82ddd9/threadpoolctl-3.6.0-py3-none-any.whl.metadata\n",
      "  Downloading threadpoolctl-3.6.0-py3-none-any.whl.metadata (13 kB)\n",
      "Requirement already satisfied: filelock in c:\\users\\tokar\\pycharmprojects\\sigk\\.venv\\lib\\site-packages (from torch->medmnist) (3.18.0)\n",
      "Requirement already satisfied: typing-extensions>=4.10.0 in c:\\users\\tokar\\pycharmprojects\\sigk\\.venv\\lib\\site-packages (from torch->medmnist) (4.12.2)\n",
      "Requirement already satisfied: jinja2 in c:\\users\\tokar\\pycharmprojects\\sigk\\.venv\\lib\\site-packages (from torch->medmnist) (3.1.6)\n",
      "Requirement already satisfied: fsspec in c:\\users\\tokar\\pycharmprojects\\sigk\\.venv\\lib\\site-packages (from torch->medmnist) (2025.3.0)\n",
      "Requirement already satisfied: setuptools in c:\\users\\tokar\\pycharmprojects\\sigk\\.venv\\lib\\site-packages (from torch->medmnist) (77.0.3)\n",
      "Requirement already satisfied: sympy==1.13.1 in c:\\users\\tokar\\pycharmprojects\\sigk\\.venv\\lib\\site-packages (from torch->medmnist) (1.13.1)\n",
      "Requirement already satisfied: mpmath<1.4,>=1.1.0 in c:\\users\\tokar\\pycharmprojects\\sigk\\.venv\\lib\\site-packages (from sympy==1.13.1->torch->medmnist) (1.3.0)\n",
      "Requirement already satisfied: colorama in c:\\users\\tokar\\pycharmprojects\\sigk\\.venv\\lib\\site-packages (from tqdm->medmnist) (0.4.6)\n",
      "Requirement already satisfied: six>=1.5 in c:\\users\\tokar\\pycharmprojects\\sigk\\.venv\\lib\\site-packages (from python-dateutil>=2.8.2->pandas->medmnist) (1.17.0)\n",
      "Requirement already satisfied: MarkupSafe>=2.0 in c:\\users\\tokar\\pycharmprojects\\sigk\\.venv\\lib\\site-packages (from jinja2->torch->medmnist) (3.0.2)\n",
      "Downloading medmnist-3.0.2-py3-none-any.whl (25 kB)\n",
      "Downloading pandas-2.2.3-cp312-cp312-win_amd64.whl (11.5 MB)\n",
      "   ---------------------------------------- 0.0/11.5 MB ? eta -:--:--\n",
      "   - -------------------------------------- 0.4/11.5 MB 8.5 MB/s eta 0:00:02\n",
      "   --- ------------------------------------ 1.1/11.5 MB 11.1 MB/s eta 0:00:01\n",
      "   ------- -------------------------------- 2.0/11.5 MB 16.3 MB/s eta 0:00:01\n",
      "   ---------- ----------------------------- 2.9/11.5 MB 15.4 MB/s eta 0:00:01\n",
      "   ------------ --------------------------- 3.6/11.5 MB 15.2 MB/s eta 0:00:01\n",
      "   ---------------- ----------------------- 4.6/11.5 MB 17.4 MB/s eta 0:00:01\n",
      "   ------------------- -------------------- 5.7/11.5 MB 18.2 MB/s eta 0:00:01\n",
      "   ------------------------ --------------- 7.0/11.5 MB 19.5 MB/s eta 0:00:01\n",
      "   --------------------------- ------------ 8.0/11.5 MB 19.8 MB/s eta 0:00:01\n",
      "   ------------------------------ --------- 8.8/11.5 MB 19.4 MB/s eta 0:00:01\n",
      "   --------------------------------- ------ 9.7/11.5 MB 19.4 MB/s eta 0:00:01\n",
      "   ------------------------------------- -- 10.8/11.5 MB 21.1 MB/s eta 0:00:01\n",
      "   ---------------------------------------  11.5/11.5 MB 21.1 MB/s eta 0:00:01\n",
      "   ---------------------------------------- 11.5/11.5 MB 18.7 MB/s eta 0:00:00\n",
      "Downloading scikit_learn-1.6.1-cp312-cp312-win_amd64.whl (11.1 MB)\n",
      "   ---------------------------------------- 0.0/11.1 MB ? eta -:--:--\n",
      "   ---- ----------------------------------- 1.3/11.1 MB 41.6 MB/s eta 0:00:01\n",
      "   ----- ---------------------------------- 1.5/11.1 MB 31.6 MB/s eta 0:00:01\n",
      "   ------------ --------------------------- 3.5/11.1 MB 27.7 MB/s eta 0:00:01\n",
      "   --------------- ------------------------ 4.3/11.1 MB 27.8 MB/s eta 0:00:01\n",
      "   ------------------ --------------------- 5.2/11.1 MB 24.0 MB/s eta 0:00:01\n",
      "   --------------------- ------------------ 5.9/11.1 MB 22.3 MB/s eta 0:00:01\n",
      "   ------------------------- -------------- 7.0/11.1 MB 22.5 MB/s eta 0:00:01\n",
      "   ---------------------------- ----------- 7.8/11.1 MB 21.6 MB/s eta 0:00:01\n",
      "   ------------------------------- -------- 8.7/11.1 MB 21.4 MB/s eta 0:00:01\n",
      "   --------------------------------- ------ 9.3/11.1 MB 20.6 MB/s eta 0:00:01\n",
      "   ----------------------------------- ---- 9.8/11.1 MB 19.5 MB/s eta 0:00:01\n",
      "   ------------------------------------ --- 10.3/11.1 MB 18.7 MB/s eta 0:00:01\n",
      "   ---------------------------------------  11.1/11.1 MB 18.2 MB/s eta 0:00:01\n",
      "   ---------------------------------------- 11.1/11.1 MB 16.4 MB/s eta 0:00:00\n",
      "Downloading joblib-1.4.2-py3-none-any.whl (301 kB)\n",
      "   ---------------------------------------- 0.0/301.8 kB ? eta -:--:--\n",
      "   --------------------------------------- 301.8/301.8 kB 18.2 MB/s eta 0:00:00\n",
      "Downloading pytz-2025.2-py2.py3-none-any.whl (509 kB)\n",
      "   ---------------------------------------- 0.0/509.2 kB ? eta -:--:--\n",
      "   --------------------------------------- 509.2/509.2 kB 16.1 MB/s eta 0:00:00\n",
      "Downloading threadpoolctl-3.6.0-py3-none-any.whl (18 kB)\n",
      "Downloading tzdata-2025.2-py2.py3-none-any.whl (347 kB)\n",
      "   ---------------------------------------- 0.0/347.8 kB ? eta -:--:--\n",
      "   --------------------------------------- 347.8/347.8 kB 21.1 MB/s eta 0:00:00\n",
      "Downloading termcolor-3.0.1-py3-none-any.whl (7.2 kB)\n",
      "Building wheels for collected packages: fire\n",
      "  Building wheel for fire (pyproject.toml): started\n",
      "  Building wheel for fire (pyproject.toml): finished with status 'done'\n",
      "  Created wheel for fire: filename=fire-0.7.0-py3-none-any.whl size=114349 sha256=80c6d09c010201566d9fb79e4901b82ddbd5bb5be702c6e6ceb475495f07dc7b\n",
      "  Stored in directory: c:\\users\\tokar\\appdata\\local\\pip\\cache\\wheels\\9e\\5b\\45\\29f72e55d87a29426b04b3cfdf20325c079eb97ab74f59017d\n",
      "Successfully built fire\n",
      "Installing collected packages: pytz, tzdata, threadpoolctl, termcolor, joblib, scikit-learn, pandas, fire, medmnist\n",
      "Successfully installed fire-0.7.0 joblib-1.4.2 medmnist-3.0.2 pandas-2.2.3 pytz-2025.2 scikit-learn-1.6.1 termcolor-3.0.1 threadpoolctl-3.6.0 tzdata-2025.2\n"
     ]
    },
    {
     "name": "stderr",
     "output_type": "stream",
     "text": [
      "\n",
      "[notice] A new release of pip is available: 23.2.1 -> 25.0.1\n",
      "[notice] To update, run: python.exe -m pip install --upgrade pip\n"
     ]
    }
   ],
   "execution_count": 1
  },
  {
   "metadata": {
    "ExecuteTime": {
     "end_time": "2025-04-23T11:39:31.242961Z",
     "start_time": "2025-04-23T11:39:31.237957Z"
    }
   },
   "cell_type": "code",
   "source": [
    "import medmnist\n",
    "from medmnist import INFO, Evaluator\n",
    "\n",
    "flag = 'dermamnist'\n",
    "info = INFO[flag]\n",
    "task = info['task']\n",
    "n_channels = info['n_channels']\n",
    "n_classes = len(info['label'])\n",
    "\n",
    "print(f\"Task: {task}\\n \"\n",
    "      f\"n_channels: {n_channels}\\n \"\n",
    "      f\"n_classes: {n_classes}\\n\")\n",
    "\n",
    "DataClass = getattr(medmnist, info['python_class'])\n",
    "print(DataClass)"
   ],
   "id": "99e25db9d531e655",
   "outputs": [
    {
     "name": "stdout",
     "output_type": "stream",
     "text": [
      "Task: multi-class\n",
      " n_channels: 3\n",
      " n_classes: 7\n",
      "\n",
      "<class 'medmnist.dataset.DermaMNIST'>\n"
     ]
    }
   ],
   "execution_count": 12
  },
  {
   "metadata": {},
   "cell_type": "code",
   "outputs": [],
   "execution_count": null,
   "source": "",
   "id": "196dffbbec0cb231"
  }
 ],
 "metadata": {
  "kernelspec": {
   "display_name": "Python 3",
   "language": "python",
   "name": "python3"
  },
  "language_info": {
   "codemirror_mode": {
    "name": "ipython",
    "version": 2
   },
   "file_extension": ".py",
   "mimetype": "text/x-python",
   "name": "python",
   "nbconvert_exporter": "python",
   "pygments_lexer": "ipython2",
   "version": "2.7.6"
  }
 },
 "nbformat": 4,
 "nbformat_minor": 5
}
